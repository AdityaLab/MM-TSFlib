{
 "cells": [
  {
   "cell_type": "code",
   "execution_count": 2,
   "metadata": {},
   "outputs": [],
   "source": [
    "import pandas as pd\n",
    "import datetime\n",
    "#给search文本加上start_date和end_date\n",
    "def process_csv(file_path):\n",
    "    # 读取CSV文件\n",
    "    df = pd.read_csv(file_path)\n",
    "    \n",
    "    # 将date列转换为datetime对象\n",
    "    df['date'] = pd.to_datetime(df['date'])\n",
    "    \n",
    "    # 创建start_date和end_date列\n",
    "    df['start_date'] = df['date']\n",
    "    df['end_date'] = df['date'] + pd.Timedelta(days=6)\n",
    "    # 保存修改后的CSV文件\n",
    "    df.to_csv(file_path, index=False)\n",
    "\n",
    "# 示例调用\n",
    "process_csv('/localscratch/hliu763/24Fall/Time-Series-Library-Benchmarking-Multimodal/exp/Merged_United States+influenza infection_Gsearch_20240521.csv')\n"
   ]
  },
  {
   "cell_type": "code",
   "execution_count": null,
   "metadata": {},
   "outputs": [],
   "source": []
  }
 ],
 "metadata": {
  "kernelspec": {
   "display_name": "llmtime",
   "language": "python",
   "name": "python3"
  },
  "language_info": {
   "codemirror_mode": {
    "name": "ipython",
    "version": 3
   },
   "file_extension": ".py",
   "mimetype": "text/x-python",
   "name": "python",
   "nbconvert_exporter": "python",
   "pygments_lexer": "ipython3",
   "version": "3.9.18"
  }
 },
 "nbformat": 4,
 "nbformat_minor": 2
}
