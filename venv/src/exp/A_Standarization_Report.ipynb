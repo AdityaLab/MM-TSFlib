{
 "cells": [
  {
   "cell_type": "code",
   "execution_count": 2,
   "metadata": {},
   "outputs": [],
   "source": [
    "import pandas as pd\n",
    "import datetime\n",
    "#标准化report文本\n",
    "def process_csv(file_path):\n",
    "    # 读取CSV文件\n",
    "    df = pd.read_csv(file_path)\n",
    "    \n",
    "    # 将date列转换为datetime对象\n",
    "    df['date'] = pd.to_datetime(df['date'])\n",
    "    \n",
    "    # 创建start_date和end_date列\n",
    "    df['start_date'] = df['date']\n",
    "    df['end_date'] = df['date'] + pd.Timedelta(days=6)\n",
    "    # 保存修改后的CSV文件\n",
    "    df.to_csv(file_path, index=False)\n",
    "\n",
    "# 示例调用\n",
    "process_csv('/localscratch/hliu763/24Fall/Time-Series-Library-Benchmarking-Multimodal/exp/Merged_United States+influenza infection_Gsearch_20240521.csv')\n"
   ]
  },
  {
   "cell_type": "code",
   "execution_count": 3,
   "metadata": {},
   "outputs": [
    {
     "name": "stdout",
     "output_type": "stream",
     "text": [
      "缺失比例: 0.00%\n"
     ]
    }
   ],
   "source": [
    "import pandas as pd\n",
    "from datetime import datetime\n",
    "\n",
    "def process_csv(file_path, sum_name):\n",
    "    # 读取CSV文件\n",
    "    df = pd.read_csv(file_path)\n",
    "    \n",
    "    # 将start_date和end_date列转换为标准的年-月-日格式，并处理异常日期\n",
    "    def clean_date(date_str):\n",
    "        # 尝试多种日期格式进行解析\n",
    "        date_formats = ['%Y-%m-%d', '%Y %m/%d', '%Y/%m/%d', '%Y%m%d']\n",
    "        for date_format in date_formats:\n",
    "            try:\n",
    "                date_obj = datetime.strptime(date_str, date_format)\n",
    "                return date_obj\n",
    "            except ValueError:\n",
    "                continue\n",
    "        # 处理异常日期，如每个月的第0天\n",
    "        parts = date_str.replace('/', '-').replace(' ', '-').split('-')\n",
    "        if len(parts) >= 3 and parts[2] == '0':\n",
    "            parts[2] = '01'\n",
    "            cleaned_date_str = '-'.join(parts)\n",
    "            try:\n",
    "                date_obj = datetime.strptime(cleaned_date_str, '%Y-%m-%d')\n",
    "                return date_obj\n",
    "            except ValueError:\n",
    "                pass\n",
    "        print(f\"无法解析的日期格式: {date_str}\")\n",
    "        return None\n",
    "\n",
    "    df['start_date'] = df['start_date'].apply(clean_date)\n",
    "    df['end_date'] = df['end_date'].apply(clean_date)\n",
    "    \n",
    "    # 删除无法解析的日期行\n",
    "    # df.dropna(subset=['start_date', 'end_date'], inplace=True)\n",
    "    \n",
    "    # 检测sum_name列中的缺失值比例，并填补为\"NA\"\n",
    "    missing_ratio = df[sum_name].isna().mean() * 100\n",
    "    df[sum_name].fillna('NA', inplace=True)\n",
    "\n",
    "    # 打印缺失比例\n",
    "    print(f\"缺失比例: {missing_ratio:.2f}%\")\n",
    "\n",
    "    # 保存修改后的CSV文件\n",
    "    df.to_csv(file_path, index=False)\n",
    "\n",
    "# 示例调用\n",
    "# process_csv('your_file_path.csv', 'SUM_0521_V1')\n",
    "\n",
    "# 示例调用\n",
    "process_csv('/localscratch/hliu763/24Fall/Time-Series-Library-Benchmarking-Multimodal/exp/CDC_report_date_and_text (1).csv', 'SUM_0521_V1')\n"
   ]
  },
  {
   "cell_type": "code",
   "execution_count": 4,
   "metadata": {},
   "outputs": [
    {
     "name": "stdout",
     "output_type": "stream",
     "text": [
      "表头:  ['id', 'start_date', 'end_date', 'text', 'SUM_0521_V1']\n"
     ]
    }
   ],
   "source": [
    "import pandas as pd\n",
    "\n",
    "# 输入CSV文件路径\n",
    "file_path = '/localscratch/hliu763/24Fall/Time-Series-Library-Benchmarking-Multimodal/exp/CDC_report_date_and_text (1).csv'\n",
    "\n",
    "# 读取CSV文件\n",
    "df = pd.read_csv(file_path)\n",
    "\n",
    "# 打印表头\n",
    "print(\"表头: \", df.columns.tolist())\n",
    "\n"
   ]
  },
  {
   "cell_type": "code",
   "execution_count": 5,
   "metadata": {},
   "outputs": [],
   "source": [
    "\n",
    "# 修改指定的列名为“final_sum”\n",
    "sum_name = 'SUM_0521_V1'  # 需要修改的列名\n",
    "df.rename(columns={sum_name: 'final_sum'}, inplace=True)\n",
    "\n",
    "# 保存修改后的CSV文件\n",
    "df.to_csv(file_path, index=False)"
   ]
  },
  {
   "cell_type": "code",
   "execution_count": 6,
   "metadata": {},
   "outputs": [
    {
     "name": "stdout",
     "output_type": "stream",
     "text": [
      "表头:  ['id', 'start_date', 'end_date', 'text', 'final_sum']\n"
     ]
    }
   ],
   "source": [
    "print(\"表头: \", df.columns.tolist())\n"
   ]
  },
  {
   "cell_type": "code",
   "execution_count": null,
   "metadata": {},
   "outputs": [],
   "source": []
  }
 ],
 "metadata": {
  "kernelspec": {
   "display_name": "llmtime",
   "language": "python",
   "name": "python3"
  },
  "language_info": {
   "codemirror_mode": {
    "name": "ipython",
    "version": 3
   },
   "file_extension": ".py",
   "mimetype": "text/x-python",
   "name": "python",
   "nbconvert_exporter": "python",
   "pygments_lexer": "ipython3",
   "version": "3.9.18"
  }
 },
 "nbformat": 4,
 "nbformat_minor": 2
}
